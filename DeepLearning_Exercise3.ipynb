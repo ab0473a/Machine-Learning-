{
  "nbformat": 4,
  "nbformat_minor": 0,
  "metadata": {
    "colab": {
      "name": "DeepLearning Exercise3.ipynb",
      "provenance": [],
      "authorship_tag": "ABX9TyPJEd2hkL8Pj9sHpHT8k1QL",
      "include_colab_link": true
    },
    "kernelspec": {
      "name": "python3",
      "display_name": "Python 3"
    },
    "language_info": {
      "name": "python"
    }
  },
  "cells": [
    {
      "cell_type": "markdown",
      "metadata": {
        "id": "view-in-github",
        "colab_type": "text"
      },
      "source": [
        "<a href=\"https://colab.research.google.com/github/ab0473a/Machine-Learning-/blob/deeplearning.ai/DeepLearning_Exercise3.ipynb\" target=\"_parent\"><img src=\"https://colab.research.google.com/assets/colab-badge.svg\" alt=\"Open In Colab\"/></a>"
      ]
    },
    {
      "cell_type": "code",
      "metadata": {
        "id": "ZNMHvo7Gla1c"
      },
      "source": [
        "import tensorflow as tf \n",
        "def train_mnist_conv():\n",
        "    # Please write your code only where you are indicated.\n",
        "    # please do not remove model fitting inline comments.\n",
        "\n",
        "    # YOUR CODE STARTS HERE\n",
        "    class myCallback(tf.keras.callbacks.Callback):\n",
        "        def on_epoch_end(self, epoch, logs={}):\n",
        "            if(logs.get('accuracy')>=0.998):\n",
        "                print (\"\\nReached 99.8% accuracy so canceling training!\")\n",
        "                self.model.stop_training = True\n",
        "    \n",
        "    # YOUR CODE ENDS HERE\n",
        "\n",
        "    mnist = tf.keras.datasets.mnist\n",
        "    (training_images, training_labels), (test_images, test_labels) = mnist.load_data()\n",
        "    # YOUR CODE STARTS HERE\n",
        "    training_images=training_images.reshape(60000, 28, 28, 1)\n",
        "    training_images=training_images / 255.0\n",
        "    test_images = test_images.reshape(10000, 28, 28, 1)\n",
        "    test_images=test_images/255.0\n",
        "    callbacks = myCallback()\n",
        "    # YOUR CODE ENDS HERE\n",
        "\n",
        "    model = tf.keras.models.Sequential([\n",
        "            # YOUR CODE STARTS HERE\n",
        "            tf.keras.layers.Conv2D(64, (3,3), activation='relu', input_shape=(28, 28, 1)),\n",
        "            tf.keras.layers.MaxPooling2D(2, 2),\n",
        "            tf.keras.layers.Flatten(),\n",
        "            tf.keras.layers.Dense(128, activation='relu'),\n",
        "            tf.keras.layers.Dense(10, activation='softmax')\n",
        "            # YOUR CODE ENDS HERE\n",
        "    ])\n",
        "\n",
        "    model.compile(optimizer='adam', loss='sparse_categorical_crossentropy', metrics=['accuracy'])\n",
        "    # model fitting\n",
        "    history = model.fit(\n",
        "        # YOUR CODE STARTS HERE\n",
        "        training_images, training_labels, epochs=20, callbacks=[callbacks]\n",
        "        # YOUR CODE ENDS HERE\n",
        "    )\n",
        "    # model fitting\n",
        "   \n",
        "\n"
      ],
      "execution_count": 3,
      "outputs": []
    },
    {
      "cell_type": "code",
      "metadata": {
        "colab": {
          "base_uri": "https://localhost:8080/"
        },
        "id": "P2in6HbJl-zs",
        "outputId": "a1746c2e-da74-4ecb-c9fb-322b4857bce0"
      },
      "source": [
        "train_mnist_conv()"
      ],
      "execution_count": 5,
      "outputs": [
        {
          "output_type": "stream",
          "text": [
            "Epoch 1/20\n",
            "1875/1875 [==============================] - 54s 29ms/step - loss: 0.2776 - accuracy: 0.9125\n",
            "Epoch 2/20\n",
            "1875/1875 [==============================] - 54s 29ms/step - loss: 0.0466 - accuracy: 0.9854\n",
            "Epoch 3/20\n",
            "1875/1875 [==============================] - 57s 30ms/step - loss: 0.0265 - accuracy: 0.9911\n",
            "Epoch 4/20\n",
            "1875/1875 [==============================] - 54s 29ms/step - loss: 0.0159 - accuracy: 0.9951\n",
            "Epoch 5/20\n",
            "1875/1875 [==============================] - 55s 29ms/step - loss: 0.0122 - accuracy: 0.9960\n",
            "Epoch 6/20\n",
            "1875/1875 [==============================] - 54s 29ms/step - loss: 0.0070 - accuracy: 0.9981\n",
            "Epoch 7/20\n",
            "1875/1875 [==============================] - 54s 29ms/step - loss: 0.0072 - accuracy: 0.9977\n",
            "Epoch 8/20\n",
            "1875/1875 [==============================] - 54s 29ms/step - loss: 0.0047 - accuracy: 0.9984\n",
            "Epoch 9/20\n",
            "1875/1875 [==============================] - 54s 29ms/step - loss: 0.0031 - accuracy: 0.9990\n",
            "\n",
            "Reached 99.8% accuracy so canceling training!\n"
          ],
          "name": "stdout"
        }
      ]
    }
  ]
}