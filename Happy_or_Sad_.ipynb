{
  "nbformat": 4,
  "nbformat_minor": 0,
  "metadata": {
    "colab": {
      "name": "Happy or Sad .ipynb",
      "provenance": [],
      "collapsed_sections": [],
      "authorship_tag": "ABX9TyP2U6a/YD0aWfEnYh1tXA65",
      "include_colab_link": true
    },
    "kernelspec": {
      "display_name": "Python 3",
      "name": "python3"
    },
    "language_info": {
      "name": "python"
    }
  },
  "cells": [
    {
      "cell_type": "markdown",
      "metadata": {
        "id": "view-in-github",
        "colab_type": "text"
      },
      "source": [
        "<a href=\"https://colab.research.google.com/github/ab0473a/Machine-Learning-/blob/deeplearning.ai/Happy_or_Sad_.ipynb\" target=\"_parent\"><img src=\"https://colab.research.google.com/assets/colab-badge.svg\" alt=\"Open In Colab\"/></a>"
      ]
    },
    {
      "cell_type": "code",
      "metadata": {
        "colab": {
          "base_uri": "https://localhost:8080/"
        },
        "id": "VMadV_bQ1AwS",
        "outputId": "ad4205ec-1cd5-418b-eb3f-908326d8d795"
      },
      "source": [
        "import tensorflow as tf \n",
        "import os \n",
        "import zipfile\n",
        "\n",
        "!wget --no-check-certificate \\\n",
        "    \"https://storage.googleapis.com/laurencemoroney-blog.appspot.com/happy-or-sad.zip\" \\\n",
        "    -O \"/tmp/happy-or-sad.zip\"\n",
        "\n",
        "zip_ref = zipfile.ZipFile(\"/tmp/happy-or-sad.zip\", 'r')\n",
        "zip_ref.extractall(\"/tmp/h-or-s\")\n",
        "zip_ref.close()\n",
        "\n",
        "DESIRED_ACCURACY = 0.999\n",
        "\n",
        "class myCallback(tf.keras.callbacks.Callback):\n",
        "  def on_epoch_end(self, epoch, logs={}):\n",
        "    if (logs.get('acc') > DESIRED_ACCURACY):\n",
        "      print('\\nDesired Accuracy is met, Stopping training...')\n",
        "      self.model.stop_training = True\n",
        "\n",
        "callbacks = myCallback()"
      ],
      "execution_count": 4,
      "outputs": [
        {
          "output_type": "stream",
          "text": [
            "--2021-05-25 01:02:40--  https://storage.googleapis.com/laurencemoroney-blog.appspot.com/happy-or-sad.zip\n",
            "Resolving storage.googleapis.com (storage.googleapis.com)... 74.125.141.128, 173.194.210.128, 173.194.211.128, ...\n",
            "Connecting to storage.googleapis.com (storage.googleapis.com)|74.125.141.128|:443... connected.\n",
            "HTTP request sent, awaiting response... 200 OK\n",
            "Length: 2670333 (2.5M) [application/zip]\n",
            "Saving to: ‘/tmp/happy-or-sad.zip’\n",
            "\n",
            "\r/tmp/happy-or-sad.z   0%[                    ]       0  --.-KB/s               \r/tmp/happy-or-sad.z 100%[===================>]   2.55M  --.-KB/s    in 0.02s   \n",
            "\n",
            "2021-05-25 01:02:40 (132 MB/s) - ‘/tmp/happy-or-sad.zip’ saved [2670333/2670333]\n",
            "\n"
          ],
          "name": "stdout"
        }
      ]
    },
    {
      "cell_type": "code",
      "metadata": {
        "id": "6LAYJ0DCE-1T"
      },
      "source": [
        "#This code block defines and compiles the training model\n",
        "model = tf.keras.models.Sequential([\n",
        "  tf.keras.layers.Conv2D(64, (3,3), activation='relu', input_shape=(150, 150, 3)), #1st Conv layer to apply 3x3 filter upon input shape of 150x150 color pic\n",
        "  tf.keras.layers.MaxPooling2D(2,2), #Max pooling will take the features in the picture and reduce the overall px by 1/2\n",
        "  tf.keras.layers.Conv2D(64, (3,3), activation='relu'), #2nd Conv layer with same 64 neurons which will again apply the 3x3 filter utilizing a relu optimizer which activates as 1 if data >0\n",
        "  tf.keras.layers.MaxPooling2D(2,2),\n",
        "  tf.keras.layers.Conv2D(64, (3,3), activation='relu'),\n",
        "  tf.keras.layers.MaxPooling2D(2,2),\n",
        "  tf.keras.layers.Flatten(),\n",
        "  tf.keras.layers.Dense(128, activation='relu'), #This is the hidden layer of 128 neurons doing the actual work once the conv layers have processed all the data \n",
        "  tf.keras.layers.Dense(1, activation='sigmoid') #Using 1 output channel because this is a binary classifier of 'happy' or 'sad'\n",
        "])\n",
        "\n",
        "from tensorflow.keras.optimizers import RMSprop \n",
        "\n",
        "model.compile(loss='binary_crossentropy', optimizer='adam', metrics=['acc'])"
      ],
      "execution_count": 11,
      "outputs": []
    },
    {
      "cell_type": "code",
      "metadata": {
        "colab": {
          "base_uri": "https://localhost:8080/"
        },
        "id": "ZNxVyueeLrlQ",
        "outputId": "1d45090b-8a44-43a4-aaa1-299a502fb02e"
      },
      "source": [
        "from tensorflow.keras.preprocessing.image import ImageDataGenerator\n",
        "\n",
        "train_datagen = ImageDataGenerator(rescale=1/255.0)\n",
        "\n",
        "train_generator = train_datagen.flow_from_directory(\n",
        "    '/tmp/h-or-s/',\n",
        "    target_size=(150,150),\n",
        "    batch_size=80,\n",
        "    class_mode='binary')"
      ],
      "execution_count": 15,
      "outputs": [
        {
          "output_type": "stream",
          "text": [
            "Found 80 images belonging to 2 classes.\n"
          ],
          "name": "stdout"
        }
      ]
    },
    {
      "cell_type": "code",
      "metadata": {
        "colab": {
          "base_uri": "https://localhost:8080/"
        },
        "id": "_vI2DDv_M6pB",
        "outputId": "c18eab76-7cf4-424f-86c7-a319d19a1c20"
      },
      "source": [
        "#This code block calls model.fit and does the training for a number of epochs until the accuracy is reached \n",
        "history = model.fit_generator(\n",
        "    train_generator,\n",
        "    steps_per_epoch=1,\n",
        "    epochs=30,\n",
        "    verbose=1,\n",
        "    callbacks=[callbacks]\n",
        ")"
      ],
      "execution_count": 16,
      "outputs": [
        {
          "output_type": "stream",
          "text": [
            "/usr/local/lib/python3.7/dist-packages/tensorflow/python/keras/engine/training.py:1844: UserWarning: `Model.fit_generator` is deprecated and will be removed in a future version. Please use `Model.fit`, which supports generators.\n",
            "  warnings.warn('`Model.fit_generator` is deprecated and '\n"
          ],
          "name": "stderr"
        },
        {
          "output_type": "stream",
          "text": [
            "Epoch 1/30\n",
            "1/1 [==============================] - 6s 6s/step - loss: 0.6940 - acc: 0.5000\n",
            "Epoch 2/30\n",
            "1/1 [==============================] - 4s 4s/step - loss: 0.7619 - acc: 0.5000\n",
            "Epoch 3/30\n",
            "1/1 [==============================] - 4s 4s/step - loss: 0.7119 - acc: 0.5000\n",
            "Epoch 4/30\n",
            "1/1 [==============================] - 4s 4s/step - loss: 0.6708 - acc: 0.5000\n",
            "Epoch 5/30\n",
            "1/1 [==============================] - 4s 4s/step - loss: 0.5985 - acc: 0.5000\n",
            "Epoch 6/30\n",
            "1/1 [==============================] - 4s 4s/step - loss: 0.5121 - acc: 0.7500\n",
            "Epoch 7/30\n",
            "1/1 [==============================] - 4s 4s/step - loss: 0.4012 - acc: 0.9250\n",
            "Epoch 8/30\n",
            "1/1 [==============================] - 4s 4s/step - loss: 0.2871 - acc: 0.9375\n",
            "Epoch 9/30\n",
            "1/1 [==============================] - 4s 4s/step - loss: 0.2135 - acc: 0.9500\n",
            "Epoch 10/30\n",
            "1/1 [==============================] - 5s 5s/step - loss: 0.3016 - acc: 0.9000\n",
            "Epoch 11/30\n",
            "1/1 [==============================] - 6s 6s/step - loss: 0.2900 - acc: 0.8000\n",
            "Epoch 12/30\n",
            "1/1 [==============================] - 7s 7s/step - loss: 0.1539 - acc: 0.9375\n",
            "Epoch 13/30\n",
            "1/1 [==============================] - 5s 5s/step - loss: 0.2015 - acc: 0.9250\n",
            "Epoch 14/30\n",
            "1/1 [==============================] - 4s 4s/step - loss: 0.1569 - acc: 0.9375\n",
            "Epoch 15/30\n",
            "1/1 [==============================] - 4s 4s/step - loss: 0.1399 - acc: 0.9500\n",
            "Epoch 16/30\n",
            "1/1 [==============================] - 4s 4s/step - loss: 0.1639 - acc: 0.9375\n",
            "Epoch 17/30\n",
            "1/1 [==============================] - 4s 4s/step - loss: 0.1214 - acc: 0.9500\n",
            "Epoch 18/30\n",
            "1/1 [==============================] - 4s 4s/step - loss: 0.1278 - acc: 0.9375\n",
            "Epoch 19/30\n",
            "1/1 [==============================] - 4s 4s/step - loss: 0.1292 - acc: 0.9375\n",
            "Epoch 20/30\n",
            "1/1 [==============================] - 4s 4s/step - loss: 0.1068 - acc: 0.9500\n",
            "Epoch 21/30\n",
            "1/1 [==============================] - 4s 4s/step - loss: 0.0967 - acc: 0.9625\n",
            "Epoch 22/30\n",
            "1/1 [==============================] - 4s 4s/step - loss: 0.1021 - acc: 1.0000\n",
            "\n",
            "Desired Accuracy is met, Stopping training...\n"
          ],
          "name": "stdout"
        }
      ]
    },
    {
      "cell_type": "code",
      "metadata": {
        "colab": {
          "base_uri": "https://localhost:8080/"
        },
        "id": "NN6fJadKOf5M",
        "outputId": "f5076f3b-b1fb-457f-9657-7ba7ec9d9142"
      },
      "source": [
        "model.summary()"
      ],
      "execution_count": 17,
      "outputs": [
        {
          "output_type": "stream",
          "text": [
            "Model: \"sequential_1\"\n",
            "_________________________________________________________________\n",
            "Layer (type)                 Output Shape              Param #   \n",
            "=================================================================\n",
            "conv2d_3 (Conv2D)            (None, 148, 148, 64)      1792      \n",
            "_________________________________________________________________\n",
            "max_pooling2d_3 (MaxPooling2 (None, 74, 74, 64)        0         \n",
            "_________________________________________________________________\n",
            "conv2d_4 (Conv2D)            (None, 72, 72, 64)        36928     \n",
            "_________________________________________________________________\n",
            "max_pooling2d_4 (MaxPooling2 (None, 36, 36, 64)        0         \n",
            "_________________________________________________________________\n",
            "conv2d_5 (Conv2D)            (None, 34, 34, 64)        36928     \n",
            "_________________________________________________________________\n",
            "max_pooling2d_5 (MaxPooling2 (None, 17, 17, 64)        0         \n",
            "_________________________________________________________________\n",
            "flatten_1 (Flatten)          (None, 18496)             0         \n",
            "_________________________________________________________________\n",
            "dense_2 (Dense)              (None, 128)               2367616   \n",
            "_________________________________________________________________\n",
            "dense_3 (Dense)              (None, 1)                 129       \n",
            "=================================================================\n",
            "Total params: 2,443,393\n",
            "Trainable params: 2,443,393\n",
            "Non-trainable params: 0\n",
            "_________________________________________________________________\n"
          ],
          "name": "stdout"
        }
      ]
    },
    {
      "cell_type": "code",
      "metadata": {
        "colab": {
          "base_uri": "https://localhost:8080/"
        },
        "id": "XNjReRehPMTP",
        "outputId": "91d4c911-3de5-4cc4-f92f-1a2f62e10d3f"
      },
      "source": [
        "classifications = model.predict(train_generator)\n",
        "print(classifications[0])\n"
      ],
      "execution_count": 24,
      "outputs": [
        {
          "output_type": "stream",
          "text": [
            "[0.98834866]\n"
          ],
          "name": "stdout"
        }
      ]
    }
  ]
}